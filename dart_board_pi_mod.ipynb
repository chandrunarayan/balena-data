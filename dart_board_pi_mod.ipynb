{
 "cells": [
  {
   "cell_type": "markdown",
   "metadata": {},
   "source": [
    "# Computable Dart Board"
   ]
  },
  {
   "cell_type": "markdown",
   "metadata": {
    "id": "HgvUlRQ7m9qo"
   },
   "source": [
    "### This build on the Physical Dart Board we used in the first class period!\n",
    "### First we are going to form teams and elect captain for each team. \n",
    "Your team name will be sected from the combination of the text formed by <span style=\"color:blue\">***random adjective-random noun***</span> for example it could be <span style=\"color:red\">***lazy-ficus***"
   ]
  },
  {
   "cell_type": "code",
   "execution_count": 1,
   "metadata": {
    "id": "BdUM8xNptFjb",
    "tags": []
   },
   "outputs": [
    {
     "name": "stdin",
     "output_type": "stream",
     "text": [
      "Enter list of students separated by a comma  Kai,Teoman,Max,Dagi,Sidney,Bing,Maddie,Declan,Gus,Vincent,Luke,Asher,Alex\n"
     ]
    },
    {
     "name": "stdout",
     "output_type": "stream",
     "text": [
      "\n",
      "Printing all student names\n",
      "1. Kai\n",
      "2. Teoman\n",
      "3. Max\n",
      "4. Dagi\n",
      "5. Sidney\n",
      "6. Bing\n",
      "7. Maddie\n",
      "8. Declan\n",
      "9. Gus\n",
      "10. Vincent\n",
      "11. Luke\n",
      "12. Asher\n",
      "13. Alex\n"
     ]
    }
   ],
   "source": [
    "#@title Enter names of students in class { display-mode: \"form\" }\n",
    "\n",
    "# Kai,Teoman,Max,Dagi,Sidney,Bing,Maddie,Declan,Gus,Vincent,Luke,Asher,Alex\n",
    "input_string = input(\"Enter list of students separated by a comma \")\n",
    "\n",
    "#print(input_string)\n",
    "student_list  = input_string.split(\",\")\n",
    "nstudents = len(student_list)\n",
    "#print('Number of students set to ', nstudents)\n",
    "print(\"\\nPrinting all student names\")\n",
    "i=0\n",
    "for student in student_list:\n",
    "  i += 1\n",
    "  print(str(i) + \". \" + student)"
   ]
  },
  {
   "cell_type": "code",
   "execution_count": 16,
   "metadata": {
    "colab": {
     "base_uri": "https://localhost:8080/",
     "height": 34
    },
    "executionInfo": {
     "elapsed": 1357,
     "status": "ok",
     "timestamp": 1568065101187,
     "user": {
      "displayName": "Chandru Narayan",
      "photoUrl": "",
      "userId": "02717025086480664074"
     },
     "user_tz": 420
    },
    "id": "yGPY00tOnReg",
    "outputId": "6935cb0e-4f4c-4d79-9971-5c3fa5b1896f",
    "tags": []
   },
   "outputs": [
    {
     "name": "stdout",
     "output_type": "stream",
     "text": [
      "Number of teams set to  4\n"
     ]
    }
   ],
   "source": [
    "#@title Number of teams in class { display-mode: \"form\" }\n",
    "\n",
    "teams = '4' \n",
    "nteams = int(teams)\n",
    "print('Number of teams set to ', nteams)"
   ]
  },
  {
   "cell_type": "code",
   "execution_count": 17,
   "metadata": {
    "id": "b3_OMLOmnSwA",
    "tags": []
   },
   "outputs": [
    {
     "name": "stdout",
     "output_type": "stream",
     "text": [
      "['Declan', 'Luke', 'Asher']\n",
      "['Maddie', 'Bing', 'Sidney']\n",
      "['Kai', 'Vincent', 'Max']\n",
      "['Gus', 'Dagi', 'Teoman', 'Alex']\n"
     ]
    }
   ],
   "source": [
    "#@title Display random teams { display-mode: \"form\" }\n",
    "#input_string = input(\"Enter list of students separated by a comma \")\n",
    "#print(input_string)\n",
    "student_list  = input_string.split(\",\")\n",
    "#print(\"Printing all student names\")\n",
    "#for student in student_list:\n",
    "#    print(student)\n",
    "nstudents = len(student_list)\n",
    "nteams = int(teams)\n",
    "#print(nstudents)\n",
    "#print(nteams)\n",
    "import random\n",
    "while nstudents > 0 and nteams > 0:\n",
    "  team = random.sample(student_list, int(nstudents/nteams))\n",
    "  for x in team:\n",
    "    student_list.remove(x)\n",
    "  nstudents -= int(nstudents/nteams)\n",
    "  nteams -= 1\n",
    "  print(team)"
   ]
  },
  {
   "cell_type": "markdown",
   "metadata": {
    "id": "0lzRIV0zgF_t"
   },
   "source": [
    "## Team Exercise 1 Play Darts to calculate PI !! - Simply throw 12 Darts each\n",
    "1. Each member, including captain plays all 12 darts\n",
    "1. Team captains write in your notebook how many darts each member you got into the circular board, square, outside\n",
    "\n",
    "Captains notebook should have a table that look like the one below. Note, each row adds to 12"
   ]
  },
  {
   "cell_type": "markdown",
   "metadata": {},
   "source": [
    "Name|Inside Circle|Outside Circle - Inside Square|Outside Square\n",
    ":---:|:---:|:---:|:---:|\n",
    "dru|6|4|2\n",
    "gru|9|3|0\n",
    "totals for lazy-ficus|15|7|2"
   ]
  },
  {
   "cell_type": "markdown",
   "metadata": {},
   "source": [
    "<img src=\"https://chandrunarayan.github.io/fcsr/geometry/pi1.png\" align=\"left\" width=400 />\n",
    "Here we have a circular dart board with radius R inscribed in a square. If you threw <span style=\"color:red\"</span>A LOT OF DARTS</span> then Area = number of darts!\n",
    "\n",
    "$$Circle\\_Area={\\pi}\\times{R}^2$$\n",
    "\n",
    "$$Square\\_Area=(2\\times{R})^2$$\n",
    "\n",
    "$$\\frac{Square\\_Area}{Circle\\_Area}=\\frac{4\\times{R}^2}{\\pi\\times{R}^2}=\\frac{4}{\\pi}$$\n",
    "\n",
    "$$\\frac{Darts\\_in\\_Square}{Darts\\_in\\_Circle}=\\frac{4}{\\pi}$$\n",
    "$${\\pi}={4}\\times(\\frac{Darts\\_in\\_Circle}{Darts\\_in\\_Square})$$\n",
    "\n",
    "<span style=\"color:blue\">Rearrange this to find PI using your calculator and write it in your notebook!</span>  Which team came the closest to the corect value ??\n",
    "\n"
   ]
  },
  {
   "cell_type": "markdown",
   "metadata": {
    "id": "0lzRIV0zgF_t"
   },
   "source": [
    "## Team Exercise 2: Let the computer play Darts to calculate PI throw hundreds of Darts !!\n",
    "1. We will walk through ech code cell below!"
   ]
  },
  {
   "cell_type": "code",
   "execution_count": 18,
   "metadata": {},
   "outputs": [],
   "source": [
    "totalThrows=300   # how many times we throw the dart"
   ]
  },
  {
   "cell_type": "code",
   "execution_count": 19,
   "metadata": {
    "tags": []
   },
   "outputs": [],
   "source": [
    "import board\n",
    "import neopixel\n",
    "from time import sleep"
   ]
  },
  {
   "cell_type": "code",
   "execution_count": 20,
   "metadata": {
    "tags": []
   },
   "outputs": [],
   "source": [
    "pixel_pin = board.D18\n",
    "num_pixels = 100\n",
    "ORDER = neopixel.RGB\n",
    "pixels = neopixel.NeoPixel(pixel_pin, num_pixels, \n",
    "                           brightness=0.1, auto_write=False,\n",
    "                           pixel_order=ORDER)"
   ]
  },
  {
   "cell_type": "code",
   "execution_count": 21,
   "metadata": {},
   "outputs": [],
   "source": [
    "def reset():\n",
    "    for ii in range(num_pixels):\n",
    "        pixels.fill((0,0,0))\n",
    "        pixels[ii]=((0,0,0))\n",
    "        pixels.show()\n",
    "    sleep(2)"
   ]
  },
  {
   "cell_type": "code",
   "execution_count": 22,
   "metadata": {
    "tags": []
   },
   "outputs": [],
   "source": [
    "def initialize():\n",
    "    pixels.fill((0,0,0))\n",
    "    #print(pixels)\n",
    "    pixels.show()\n",
    "    sleep(2)\n",
    "    pixels.fill((255,255,255))\n",
    "    #print(pixels)\n",
    "    pixels.show()\n",
    "    sleep(2)\n",
    "    pixels.fill((0,0,0))\n",
    "    #print(pixels)\n",
    "    pixels.show()\n",
    "    sleep(2)"
   ]
  },
  {
   "cell_type": "code",
   "execution_count": 23,
   "metadata": {
    "tags": []
   },
   "outputs": [],
   "source": [
    "def allcolors():\n",
    "    pixels.fill((0,0,0))\n",
    "    #print(pixels)\n",
    "    pixels.show()\n",
    "    sleep(2)\n",
    "    pixels.fill((255,0,0))\n",
    "    #print(pixels)\n",
    "    pixels.show()\n",
    "    sleep(2)\n",
    "    pixels.fill((0,255,0))\n",
    "    #print(pixels)\n",
    "    pixels.show()\n",
    "    sleep(2)\n",
    "    pixels.fill((0,0,255))\n",
    "    #print(pixels)\n",
    "    pixels.show()\n",
    "    sleep(2)\n",
    "    pixels.fill((255,255,0))\n",
    "    #print(pixels)\n",
    "    pixels.show()\n",
    "    sleep(2)\n",
    "    pixels.fill((255,0,255))\n",
    "    #print(pixels)\n",
    "    pixels.show()\n",
    "    sleep(2)\n",
    "    pixels.fill((0,255,255))\n",
    "    #print(pixels)\n",
    "    pixels.show()\n",
    "    sleep(2)\n",
    "    pixels.fill((0,0,0))\n",
    "    #print(pixels)\n",
    "    pixels.show()\n",
    "    sleep(2)"
   ]
  },
  {
   "cell_type": "code",
   "execution_count": 24,
   "metadata": {
    "tags": []
   },
   "outputs": [],
   "source": [
    "# Creating pixel conversion 2-D Array \n",
    "import math\n",
    "import numpy as np\n",
    "\n",
    "P = np.array([[90,91,92,93,94,95,96,97,98,99], [89,88,87,86,85,84,83,82,81,80],\n",
    "     [70,71,72,73,74,75,76,77,78,79], [69,68,67,66,65,64,63,62,61,60],\n",
    "     [50,51,52,53,54,55,56,57,58,59], [49,48,47,46,45,44,43,42,41,40],\n",
    "     [30,31,32,33,34,35,36,37,38,39], [29,28,27,26,25,24,23,22,21,20],\n",
    "     [10,11,12,13,14,15,16,17,18,19], [9,8,7,6,5,4,3,2,1,0]])  \n",
    "\n",
    "def pix(x,y):  \n",
    "    r = math.trunc(5*(x+1))\n",
    "    c = math.trunc(5*(y+1))   \n",
    "    return P[r][c]"
   ]
  },
  {
   "cell_type": "code",
   "execution_count": 25,
   "metadata": {},
   "outputs": [],
   "source": [
    "reset()\n",
    "initialize()\n",
    "allcolors()\n",
    "reset()"
   ]
  },
  {
   "cell_type": "code",
   "execution_count": 26,
   "metadata": {
    "tags": []
   },
   "outputs": [],
   "source": [
    "reset()\n",
    "for ii in range(3):\n",
    "    pixels.fill((0,0,0))\n",
    "    #print(pixels)\n",
    "    pixels.show()\n",
    "    sleep(2)\n",
    "    pixels.fill((255,0,255))\n",
    "    #print(pixels)\n",
    "    pixels.show()\n",
    "    sleep(2)\n",
    "reset()"
   ]
  },
  {
   "cell_type": "code",
   "execution_count": 27,
   "metadata": {},
   "outputs": [],
   "source": [
    "#function to setup the plot and dartboard\n",
    "import numpy as np\n",
    "import matplotlib.pyplot as plt\n",
    "\n",
    "def plot_dartboard(fig, axs):\n",
    "    theta = np.linspace(0, 2*np.pi, num_pixels)\n",
    "    radius = 1\n",
    "    a = radius * np.cos(theta)\n",
    "    b = radius * np.sin(theta)\n",
    "    axs.plot(a,b)"
   ]
  },
  {
   "cell_type": "code",
   "execution_count": 28,
   "metadata": {
    "tags": []
   },
   "outputs": [
    {
     "data": {
      "image/png": "[encoded data removed]",
      "text/plain": [
       "<Figure size 640x480 with 1 Axes>"
      ]
     },
     "metadata": {},
     "output_type": "display_data"
    },
    {
     "name": "stdout",
     "output_type": "stream",
     "text": [
      "   --- threw 300 darts in 13.02 seconds ---\n"
     ]
    }
   ],
   "source": [
    "#Derive PI from a circle inscribed in a square\n",
    "import random,math,time\n",
    "import matplotlib.pyplot as plt\n",
    "\n",
    "# setup plot\n",
    "start_time = time.time()\n",
    "fig, axs = plt.subplots(1)\n",
    "plt.margins(0.005, tight=True)\n",
    "axs.set_aspect(1)\n",
    "\n",
    "# plot the dartboard itself\n",
    "plot_dartboard(fig, axs)\n",
    "\n",
    "# reset neopixel array\n",
    "reset()\n",
    "\n",
    "throwsInsideCircle = 0 # starting value for a counter\n",
    "throwsOutsideCircle = 0\n",
    "for throw in range(totalThrows): # loop\n",
    "  x = random.random()*2 -1 # a random x value between [-1.0000,0.99999] not including 1\n",
    "  y = random.random()*2 -1 # a random y value between [-1.0000,0.99999] not including 1\n",
    "\n",
    "  if(x*x + y*y <= 1.0): # if inside the circle (distance squared)\n",
    "    throwsInsideCircle += 1 \n",
    "    plt.scatter(x, y, color='darkgreen')\n",
    "    pixels[pix(x,y)]=((0,255,0))\n",
    "  else:\n",
    "    throwsOutsideCircle += 1\n",
    "    plt.scatter(x, y, color='red')\n",
    "    pixels[pix(x,y)]=((255,0,0))\n",
    "    \n",
    "# all done, compute pi\n",
    "pi = (4.0*throwsInsideCircle)/totalThrows\n",
    "#print(pi) \n",
    "#print(\"--- %s seconds ---\" % (time.time() - start_time))\n",
    "\n",
    "# show darts in neopixel array\n",
    "pixels.show()\n",
    "                   \n",
    "plt.title('throws = ' + str(totalThrows) + '  calculated pi = ' + str(pi))\n",
    "plt.show()\n",
    "end_time = time.time()\n",
    "elapsed_time = end_time-start_time\n",
    "print(f'   --- threw {totalThrows} darts in {elapsed_time:.2f} seconds ---')"
   ]
  },
  {
   "cell_type": "markdown",
   "metadata": {},
   "source": [
    "<img src=\"https://chandrunarayan.github.io/fcsr/geometry/pi2.png\" alt=\"\" width=\"400\">"
   ]
  },
  {
   "cell_type": "markdown",
   "metadata": {},
   "source": [
    "![alt text](https://chandrunarayan.github.io/fcsr/geometry/arctan1.png)\n",
    "![alt text](https://chandrunarayan.github.io/fcsr/geometry/arctan2.png)"
   ]
  },
  {
   "cell_type": "code",
   "execution_count": 29,
   "metadata": {
    "colab": {
     "base_uri": "https://localhost:8080/",
     "height": 286
    },
    "executionInfo": {
     "elapsed": 1318,
     "status": "ok",
     "timestamp": 1580662176499,
     "user": {
      "displayName": "Chandru Narayan",
      "photoUrl": "",
      "userId": "02717025086480664074"
     },
     "user_tz": 480
    },
    "id": "g6ANaMl1gRZ1",
    "outputId": "04858afd-9f82-483f-dc7f-fe4c9a37fe68"
   },
   "outputs": [
    {
     "name": "stdout",
     "output_type": "stream",
     "text": [
      "PI is 3.1465677471829556\n"
     ]
    },
    {
     "data": {
      "image/png": "[encoded data removed]",
      "text/plain": [
       "<Figure size 640x480 with 1 Axes>"
      ]
     },
     "metadata": {},
     "output_type": "display_data"
    }
   ],
   "source": [
    "#@title Derive PI from The Arctangent of 45 (Pi/4 radians) { display-mode: \"form\" }\n",
    "\n",
    "import matplotlib.pyplot as plt\n",
    "maxterms=100\n",
    "\n",
    "# how many terms we calculate\n",
    "exp = 3\n",
    "sums = 1\n",
    "term = 1\n",
    "while (maxterms>0):\n",
    "    sums -= 1/exp\n",
    "    exp += 2\n",
    "    sums += 1/exp\n",
    "#    print ('term ' + str(term) + ' is ' + str(4*sums))\n",
    "    term += 1\n",
    "    exp += 2\n",
    "    maxterms -= 1\n",
    "    plt.scatter(term, 4*sums) \n",
    "\n",
    "print ('PI is ' + str(4*sums))\n",
    "plt.ylim(3.1,3.5)\n",
    "plt.show()    "
   ]
  },
  {
   "cell_type": "code",
   "execution_count": null,
   "metadata": {},
   "outputs": [],
   "source": []
  }
 ],
 "metadata": {
  "accelerator": "GPU",
  "colab": {
   "provenance": []
  },
  "kernelspec": {
   "display_name": "Python 3 (ipykernel)",
   "language": "python",
   "name": "python3"
  },
  "language_info": {
   "codemirror_mode": {
    "name": "ipython",
    "version": 3
   },
   "file_extension": ".py",
   "mimetype": "text/x-python",
   "name": "python",
   "nbconvert_exporter": "python",
   "pygments_lexer": "ipython3",
   "version": "3.11.2"
  }
 },
 "nbformat": 4,
 "nbformat_minor": 4
}
