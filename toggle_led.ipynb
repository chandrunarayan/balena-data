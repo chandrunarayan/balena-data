{
 "cells": [
  {
   "cell_type": "code",
   "execution_count": null,
   "id": "5780161b-fddb-4c44-bfe7-296a1594aa77",
   "metadata": {
    "tags": []
   },
   "outputs": [],
   "source": [
    "from gpiozero import LED, Button\n",
    "from time import sleep\n",
    "from datetime import datetime\n",
    "\n",
    "# led setup\n",
    "ledpin = 4\n",
    "led = LED(ledpin)\n",
    "\n",
    "# Button setup\n",
    "def pressed(button):\n",
    "    global button_state\n",
    "    current_time = datetime.now()\n",
    "    print(f'button {button.pin.number} was pressed @ {current_time}')\n",
    "    button_state = not button_state\n",
    "\n",
    "btnpin = 21\n",
    "button = Button(btnpin)\n",
    "button.when_pressed = pressed\n",
    "button_state = True\n",
    "\n",
    "# main loop\n",
    "while True:\n",
    "    if button_state:\n",
    "        led.on()\n",
    "    else:\n",
    "        led.off()\n",
    "    sleep(0.5)\n",
    "    \n"
   ]
  },
  {
   "cell_type": "code",
   "execution_count": null,
   "id": "d11bdd10-431d-4bf3-ab84-23999df44a20",
   "metadata": {},
   "outputs": [],
   "source": []
  }
 ],
 "metadata": {
  "kernelspec": {
   "display_name": "Python 3 (ipykernel)",
   "language": "python",
   "name": "python3"
  },
  "language_info": {
   "codemirror_mode": {
    "name": "ipython",
    "version": 3
   },
   "file_extension": ".py",
   "mimetype": "text/x-python",
   "name": "python",
   "nbconvert_exporter": "python",
   "pygments_lexer": "ipython3",
   "version": "3.11.2"
  }
 },
 "nbformat": 4,
 "nbformat_minor": 5
}
