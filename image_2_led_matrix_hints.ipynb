{
 "cells": [
  {
   "cell_type": "markdown",
   "id": "ccb73dc6-794c-41fd-88e3-61f642bad0bb",
   "metadata": {},
   "source": [
    "## led_marix_test.ipynb\n",
    "### Authors: Double-click to edit and add your name here"
   ]
  },
  {
   "cell_type": "markdown",
   "id": "6fb720b7-9405-42af-8db6-b47a2ef4b27a",
   "metadata": {},
   "source": [
    "##### WIRING DIAGRAM Markdown Block\n",
    "***Add markdown statement here for hand-drawn wiring***\n",
    "\n",
    "***Add markdown statement here to add the image of your actual wired breadboard***"
   ]
  },
  {
   "cell_type": "code",
   "execution_count": null,
   "id": "3042c0ea-b1ba-41e5-84dc-39ea051d2a3e",
   "metadata": {
    "tags": []
   },
   "outputs": [],
   "source": [
    "#### IMPORT LIBRARIES Code Block\n",
    "from PIL import Image\n",
    "from gpiozero import LED\n",
    "from time import sleep"
   ]
  },
  {
   "cell_type": "code",
   "execution_count": null,
   "id": "6aa4f714-0a2b-4371-956c-9f072a2fd60c",
   "metadata": {
    "tags": []
   },
   "outputs": [],
   "source": [
    "#### Process Image\n",
    "img = Image.open('img.png')\n",
    "pixels = img.load() \n",
    "w_, h_ = img.size\n",
    "for x in range(w_):\n",
    "    for y in range(h_):\n",
    "        #r, g, b = pixels[x, y]\n",
    "        \n",
    "        # in case your image has an alpha channel\n",
    "        r, g, b, a = pixels[x, y]\n",
    "\n",
    "        #print(x, y, f\"#{r:02x}{g:02x}{b:02x}\")\n",
    "        if not (r == 255 and g == 255 and b == 255):\n",
    "            print(x, y, f\"[{r:03d},{g:03d},{b:03d}]\")"
   ]
  },
  {
   "cell_type": "code",
   "execution_count": null,
   "id": "dd5e56b7-b4a0-41cc-b3e0-ea251c67a1ee",
   "metadata": {
    "tags": []
   },
   "outputs": [],
   "source": [
    "#### LED SETUP Code Block\n",
    "\n",
    "# led setup\n",
    "#### LED SETUP Code Block\n",
    "\n",
    "# led setup\n",
    "gpio_ledpin = 4    # Connect LED long lead to GPIO4 other to GND\n",
    "led = LED(gpio_ledpin) # Tell the led object that the pin is GPIO4"
   ]
  },
  {
   "cell_type": "code",
   "execution_count": null,
   "id": "d456830c-e173-4b9f-a8cf-b2801a173243",
   "metadata": {
    "tags": []
   },
   "outputs": [],
   "source": [
    "#### MAIN LOOP Code Block\n",
    "\n",
    "# main loop\n",
    "while True:   # Loop forevr!\n",
    "    led.on()    # Turn on LED\n",
    "    sleep(0.5)  # Sleep half-second\n",
    "    led.off()   # Turn off LED\n",
    "    sleep(0.5)  # Sleep half-second"
   ]
  },
  {
   "cell_type": "code",
   "execution_count": null,
   "id": "7c5a14e4-88b5-4b5c-9769-d57ec73aa085",
   "metadata": {},
   "outputs": [],
   "source": []
  }
 ],
 "metadata": {
  "kernelspec": {
   "display_name": "Python 3 (ipykernel)",
   "language": "python",
   "name": "python3"
  },
  "language_info": {
   "codemirror_mode": {
    "name": "ipython",
    "version": 3
   },
   "file_extension": ".py",
   "mimetype": "text/x-python",
   "name": "python",
   "nbconvert_exporter": "python",
   "pygments_lexer": "ipython3",
   "version": "3.11.2"
  },
  "nteract": {
   "version": "0.28.0"
  }
 },
 "nbformat": 4,
 "nbformat_minor": 5
}
