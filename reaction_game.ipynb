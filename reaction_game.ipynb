{
 "cells": [
  {
   "cell_type": "code",
   "execution_count": 1,
   "id": "9c71fa86-fb83-49c3-994e-a2f446171139",
   "metadata": {
    "tags": []
   },
   "outputs": [
    {
     "name": "stdout",
     "output_type": "stream",
     "text": [
      "Player 1 wins round 1\n",
      "Player 2 wins round 2\n",
      "Player 2 wins round 3\n",
      "Player 1 wins round 4\n",
      "Player 1 wins round 5\n",
      "Player 1 wins the game 3 to 2!\n",
      "gamed ended\n"
     ]
    }
   ],
   "source": [
    "from gpiozero import Button, LED\n",
    "from time import sleep\n",
    "import random\n",
    "\n",
    "led = LED(4)\n",
    "\n",
    "player_1 = Button(21)\n",
    "player_2 = Button(14)\n",
    "\n",
    "player_1_score = 0\n",
    "player_2_score = 0\n",
    "\n",
    "for i in range(5):\n",
    "    time = random.uniform(5, 10)\n",
    "    sleep(time)\n",
    "    led.on()    \n",
    "    while True:\n",
    "        if player_1.is_pressed:\n",
    "            print(f'Player 1 wins round {i+1}')\n",
    "            player_1_score += 1\n",
    "            break\n",
    "        if player_2.is_pressed:\n",
    "            print(f'Player 2 wins round {i+1}')\n",
    "            player_2_score += 1\n",
    "            break\n",
    "    led.off()\n",
    "\n",
    "winner = 'Player 1' if [player_1_score > player_2_score] else 'Player 2'\n",
    "print(f'{winner} wins the game {player_1_score} to {player_2_score}!')\n",
    "print('gamed ended')"
   ]
  },
  {
   "cell_type": "code",
   "execution_count": null,
   "id": "bf255b52-7334-4100-b18f-b367f3993fc6",
   "metadata": {},
   "outputs": [],
   "source": []
  }
 ],
 "metadata": {
  "kernelspec": {
   "display_name": "Python 3 (ipykernel)",
   "language": "python",
   "name": "python3"
  },
  "language_info": {
   "codemirror_mode": {
    "name": "ipython",
    "version": 3
   },
   "file_extension": ".py",
   "mimetype": "text/x-python",
   "name": "python",
   "nbconvert_exporter": "python",
   "pygments_lexer": "ipython3",
   "version": "3.11.2"
  }
 },
 "nbformat": 4,
 "nbformat_minor": 5
}
