{
 "cells": [
  {
   "cell_type": "code",
   "execution_count": 1,
   "id": "587e6562-c1bd-4397-8d34-0542affab234",
   "metadata": {
    "tags": []
   },
   "outputs": [
    {
     "name": "stdout",
     "output_type": "stream",
     "text": [
      "Player 2 wins round 1\n",
      "Player 2 wins round 2\n",
      "Player 2 wins round 3\n",
      "Player 1 wins round 4\n",
      "Player 2 wins round 5\n",
      "Player 2 wins the game 4 to 1!\n",
      "gamed ended\n"
     ]
    }
   ],
   "source": [
    "from gpiozero import Button, LED\n",
    "from time import sleep\n",
    "import random\n",
    "\n",
    "led = LED(4)\n",
    "\n",
    "player_1 = Button(21)\n",
    "player_2 = Button(14)\n",
    "\n",
    "player_1_score = 0\n",
    "player_2_score = 0\n",
    "\n",
    "for i in range(5):\n",
    "    time = random.uniform(5, 10)\n",
    "    sleep(time)\n",
    "    led.on()    \n",
    "    while True:\n",
    "        if player_1.is_pressed:\n",
    "            print(f'Player 1 wins round {i+1}')\n",
    "            player_1_score += 1\n",
    "            break\n",
    "        if player_2.is_pressed:\n",
    "            print(f'Player 2 wins round {i+1}')\n",
    "            player_2_score += 1\n",
    "            break\n",
    "    led.off()\n",
    "\n",
    "if player_1_score > player_2_score:\n",
    "    winner = 'Player 1'\n",
    "else:\n",
    "    winner = 'Player 2'\n",
    "    \n",
    "maxvalue = max(player_1_score, player_2_score)\n",
    "minvalue = min(player_1_score, player_2_score)\n",
    "\n",
    "print(f'{winner} wins the game {maxvalue} to {minvalue}!')\n",
    "print('gamed ended')"
   ]
  },
  {
   "cell_type": "code",
   "execution_count": null,
   "id": "e7ad642a-1134-403f-918a-285881488381",
   "metadata": {},
   "outputs": [],
   "source": []
  }
 ],
 "metadata": {
  "kernelspec": {
   "display_name": "Python 3 (ipykernel)",
   "language": "python",
   "name": "python3"
  },
  "language_info": {
   "codemirror_mode": {
    "name": "ipython",
    "version": 3
   },
   "file_extension": ".py",
   "mimetype": "text/x-python",
   "name": "python",
   "nbconvert_exporter": "python",
   "pygments_lexer": "ipython3",
   "version": "3.11.2"
  }
 },
 "nbformat": 4,
 "nbformat_minor": 5
}
