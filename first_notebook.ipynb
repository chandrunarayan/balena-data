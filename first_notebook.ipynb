{
 "cells": [
  {
   "cell_type": "code",
   "execution_count": null,
   "id": "d456830c-e173-4b9f-a8cf-b2801a173243",
   "metadata": {
    "tags": []
   },
   "outputs": [],
   "source": [
    "# first led circuit\n",
    "from gpiozero import LED\n",
    "import time\n",
    "\n",
    "# LED setup\n",
    "gpio_ledpin = 4\n",
    "led = LED(gpio_ledpin)\n",
    "\n",
    "while True:\n",
    "    led.on()\n",
    "    time.sleep(1)\n",
    "    led.off()\n",
    "    time.sleep(1)"
   ]
  },
  {
   "cell_type": "code",
   "execution_count": null,
   "id": "7c5a14e4-88b5-4b5c-9769-d57ec73aa085",
   "metadata": {},
   "outputs": [],
   "source": []
  }
 ],
 "metadata": {
  "kernelspec": {
   "display_name": "Python 3 (ipykernel)",
   "language": "python",
   "name": "python3"
  },
  "language_info": {
   "codemirror_mode": {
    "name": "ipython",
    "version": 3
   },
   "file_extension": ".py",
   "mimetype": "text/x-python",
   "name": "python",
   "nbconvert_exporter": "python",
   "pygments_lexer": "ipython3",
   "version": "3.11.2"
  }
 },
 "nbformat": 4,
 "nbformat_minor": 5
}
