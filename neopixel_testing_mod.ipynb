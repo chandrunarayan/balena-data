{
 "cells": [
  {
   "cell_type": "code",
   "execution_count": null,
   "id": "a71291a2-385a-486f-b610-db8d766d5e74",
   "metadata": {
    "tags": []
   },
   "outputs": [],
   "source": [
    "import board\n",
    "import neopixel\n",
    "from time import sleep"
   ]
  },
  {
   "cell_type": "code",
   "execution_count": null,
   "id": "045b40d1-567f-40b9-b458-29c8f609273c",
   "metadata": {
    "tags": []
   },
   "outputs": [],
   "source": [
    "pixel_pin = board.D18\n",
    "num_pixels = 100\n",
    "ORDER = neopixel.RGB\n",
    "pixels = neopixel.NeoPixel(pixel_pin, num_pixels, \n",
    "                           brightness=0.1, auto_write=False,\n",
    "                           pixel_order=ORDER)"
   ]
  },
  {
   "cell_type": "code",
   "execution_count": null,
   "id": "e3b46c85-e5cc-4805-82d1-b441ba2fb8ed",
   "metadata": {},
   "outputs": [],
   "source": [
    "def reset():\n",
    "    for ii in range(num_pixels):\n",
    "        pixels.fill((0,0,0))\n",
    "        pixels[ii]=((0,0,0))\n",
    "        pixels.show()"
   ]
  },
  {
   "cell_type": "code",
   "execution_count": null,
   "id": "d84962a4-fe49-480a-93f5-83ac317ba051",
   "metadata": {
    "tags": []
   },
   "outputs": [],
   "source": [
    "def initialize():\n",
    "    pixels.fill((0,0,0))\n",
    "    #print(pixels)\n",
    "    pixels.show()\n",
    "    sleep(2)\n",
    "    pixels.fill((255,255,255))\n",
    "    #print(pixels)\n",
    "    pixels.show()\n",
    "    sleep(2)\n",
    "    pixels.fill((0,0,0))\n",
    "    #print(pixels)\n",
    "    pixels.show()\n",
    "    sleep(2)"
   ]
  },
  {
   "cell_type": "code",
   "execution_count": null,
   "id": "8ed6af04-7636-492d-9170-806293412335",
   "metadata": {
    "tags": []
   },
   "outputs": [],
   "source": [
    "def allcolors():\n",
    "    pixels.fill((0,0,0))\n",
    "    #print(pixels)\n",
    "    pixels.show()\n",
    "    sleep(2)\n",
    "    pixels.fill((255,0,0))\n",
    "    #print(pixels)\n",
    "    pixels.show()\n",
    "    sleep(2)\n",
    "    pixels.fill((0,255,0))\n",
    "    #print(pixels)\n",
    "    pixels.show()\n",
    "    sleep(2)\n",
    "    pixels.fill((0,0,255))\n",
    "    #print(pixels)\n",
    "    pixels.show()\n",
    "    sleep(2)\n",
    "    pixels.fill((255,255,0))\n",
    "    #print(pixels)\n",
    "    pixels.show()\n",
    "    sleep(2)\n",
    "    pixels.fill((255,0,255))\n",
    "    #print(pixels)\n",
    "    pixels.show()\n",
    "    sleep(2)\n",
    "    pixels.fill((0,255,255))\n",
    "    #print(pixels)\n",
    "    pixels.show()\n",
    "    sleep(2)\n",
    "    pixels.fill((0,0,0))\n",
    "    #print(pixels)\n",
    "    pixels.show()\n",
    "    sleep(2)"
   ]
  },
  {
   "cell_type": "code",
   "execution_count": null,
   "id": "fc159641-b519-499c-b4e1-dbfc7ef8126e",
   "metadata": {
    "tags": []
   },
   "outputs": [],
   "source": [
    "# Creating pixel conversion 2-D Array \n",
    "import math\n",
    "import numpy as np\n",
    "\n",
    "P = np.array([[90,91,92,93,94,95,96,97,98,99], [89,88,87,86,85,84,83,82,81,80],\n",
    "     [70,71,72,73,74,75,76,77,78,79], [69,68,67,66,65,64,63,62,61,60],\n",
    "     [50,51,52,53,54,55,56,57,58,59], [49,48,47,46,45,44,43,42,41,40],\n",
    "     [30,31,32,33,34,35,36,37,38,39], [29,28,27,26,25,24,23,22,21,20],\n",
    "     [10,11,12,13,14,15,16,17,18,19], [9,8,7,6,5,4,3,2,1,0]]) \n",
    "\n",
    "def pix(x,y):   \n",
    "    r = math.trunc(5*(x+1))\n",
    "    c = math.trunc(5*(y+1))   \n",
    "    return P[r][c]"
   ]
  },
  {
   "cell_type": "code",
   "execution_count": null,
   "id": "11506176-b56b-492f-8c72-e1b1a01331da",
   "metadata": {},
   "outputs": [],
   "source": [
    "reset()\n",
    "initialize()\n",
    "allcolors()\n",
    "reset()"
   ]
  },
  {
   "cell_type": "code",
   "execution_count": null,
   "id": "ab2c138d-474c-4a51-975a-ebf0f10493a0",
   "metadata": {
    "tags": []
   },
   "outputs": [],
   "source": [
    "reset()\n",
    "for ii in range(3):\n",
    "    pixels.fill((0,0,0))\n",
    "    #print(pixels)\n",
    "    pixels.show()\n",
    "    sleep(2)\n",
    "    pixels.fill((0,255,255))\n",
    "    pixels.show()\n",
    "    sleep(2)\n",
    "reset()"
   ]
  },
  {
   "cell_type": "code",
   "execution_count": null,
   "id": "fd7e0e87-c751-4e1c-8f9e-3ee17995d8a5",
   "metadata": {
    "tags": []
   },
   "outputs": [],
   "source": [
    "reset()\n",
    "for ii in range(num_pixels):\n",
    "    pixels.fill((0,0,0))\n",
    "    pixels[ii]=((255,0,255))\n",
    "    pixels.show()\n",
    "    #sleep(1)\n",
    "reset()"
   ]
  },
  {
   "cell_type": "code",
   "execution_count": null,
   "id": "5aab6e86-f72e-4375-9814-5ec8d3ec7680",
   "metadata": {},
   "outputs": [],
   "source": [
    "#function to setup the plot and dartboard\n",
    "import numpy as np\n",
    "import matplotlib.pyplot as plt\n",
    "\n",
    "def plot_dartboard(fig, axs):\n",
    "    theta = np.linspace(0, 2*np.pi, num_pixels)\n",
    "    radius = 1\n",
    "    a = radius * np.cos(theta)\n",
    "    b = radius * np.sin(theta)\n",
    "    axs.plot(a,b)"
   ]
  },
  {
   "cell_type": "code",
   "execution_count": null,
   "id": "a9705e3a-8f76-42af-93c6-a4c694ecb549",
   "metadata": {},
   "outputs": [],
   "source": [
    "totalThrows=300   # how many times we throw the dart"
   ]
  },
  {
   "cell_type": "code",
   "execution_count": null,
   "id": "cb612903-a6ee-4391-b843-902b4824c622",
   "metadata": {
    "tags": []
   },
   "outputs": [],
   "source": [
    "#Derive PI from a circle inscribed in a square\n",
    "import random,math,time\n",
    "import matplotlib.pyplot as plt\n",
    "\n",
    "# setup plot\n",
    "start_time = time.time()\n",
    "fig, axs = plt.subplots(1)\n",
    "plt.margins(0.005, tight=True)\n",
    "axs.set_aspect(1)\n",
    "\n",
    "# plot the dartboard itself\n",
    "plot_dartboard(fig, axs)\n",
    "\n",
    "# reset neopixel array\n",
    "reset()\n",
    "\n",
    "throwsInsideCircle = 0 # starting value for a counter\n",
    "throwsOutsideCircle = 0\n",
    "for throw in range(totalThrows): # loop\n",
    "  x = random.random()*2 -1 # a random x value between [-1.0000,0.99999] not including 1\n",
    "  y = random.random()*2 -1 # a random y value between [-1.0000,0.99999] not including 1\n",
    "\n",
    "  if(x*x + y*y <= 1.0): # if inside the circle (distance squared)\n",
    "    throwsInsideCircle += 1 \n",
    "    plt.scatter(x, y, color='darkgreen')\n",
    "    pixels[pix(x,y)]=((0,255,0))\n",
    "  else:\n",
    "    throwsOutsideCircle += 1\n",
    "    plt.scatter(x, y, color='red')\n",
    "    pixels[pix(x,y)]=((255,0,0))\n",
    "    \n",
    "# all done, compute pi\n",
    "pi = (4.0*throwsInsideCircle)/totalThrows\n",
    "#print(pi) \n",
    "#print(\"--- %s seconds ---\" % (time.time() - start_time))\n",
    "\n",
    "# show darts in neopixel array\n",
    "pixels.show()\n",
    "                   \n",
    "plt.title('throws = ' + str(totalThrows) + '  calculated pi = ' + str(pi))\n",
    "plt.show()\n",
    "end_time = time.time()\n",
    "elapsed_time = end_time-start_time\n",
    "print(f'   --- threw {totalThrows} darts in {elapsed_time:.2f} seconds ---')"
   ]
  }
 ],
 "metadata": {
  "kernelspec": {
   "display_name": "Python 3 (ipykernel)",
   "language": "python",
   "name": "python3"
  },
  "language_info": {
   "codemirror_mode": {
    "name": "ipython",
    "version": 3
   },
   "file_extension": ".py",
   "mimetype": "text/x-python",
   "name": "python",
   "nbconvert_exporter": "python",
   "pygments_lexer": "ipython3",
   "version": "3.11.2"
  }
 },
 "nbformat": 4,
 "nbformat_minor": 5
}
