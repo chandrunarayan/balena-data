{
 "cells": [
  {
   "cell_type": "markdown",
   "id": "697807dd-d502-42bb-b4f9-cbecd99d89cf",
   "metadata": {},
   "source": [
    "![wiring](wiring_neopixels.png)"
   ]
  },
  {
   "cell_type": "code",
   "execution_count": 1,
   "id": "3005aaf6-9e0e-4f91-a7fc-540279593a17",
   "metadata": {
    "tags": []
   },
   "outputs": [
    {
     "ename": "KeyboardInterrupt",
     "evalue": "",
     "output_type": "error",
     "traceback": [
      "\u001b[0;31m---------------------------------------------------------------------------\u001b[0m",
      "\u001b[0;31mKeyboardInterrupt\u001b[0m                         Traceback (most recent call last)",
      "Cell \u001b[0;32mIn[1], line 74\u001b[0m\n\u001b[1;32m     71\u001b[0m \u001b[38;5;66;03m# Uncomment this line if you have RGBW/GRBW NeoPixels\u001b[39;00m\n\u001b[1;32m     72\u001b[0m \u001b[38;5;66;03m# pixels.fill((0, 0, 255, 0))\u001b[39;00m\n\u001b[1;32m     73\u001b[0m pixels\u001b[38;5;241m.\u001b[39mshow()\n\u001b[0;32m---> 74\u001b[0m time\u001b[38;5;241m.\u001b[39msleep(\u001b[38;5;241m5\u001b[39m)\n\u001b[1;32m     76\u001b[0m \u001b[38;5;66;03m#rainbow_cycle(1)  # rainbow cycle with 1ms delay per step\u001b[39;00m\n",
      "\u001b[0;31mKeyboardInterrupt\u001b[0m: "
     ]
    }
   ],
   "source": [
    "# Simple test for NeoPixels on Raspberry Pi\n",
    "import time\n",
    "import board\n",
    "import neopixel\n",
    "\n",
    "\n",
    "# Choose an open pin connected to the Data In of the NeoPixel strip, i.e. board.D18\n",
    "# NeoPixels must be connected to D10, D12, D18 or D21 to work.\n",
    "pixel_pin = board.D18  #This is GPIO18 !!!\n",
    "\n",
    "# The number of NeoPixels\n",
    "num_pixels = 50\n",
    "\n",
    "# The order of the pixel colors - RGB or GRB. Some NeoPixels have red and green reversed!\n",
    "# For RGBW NeoPixels, simply change the ORDER to RGBW or GRBW.\n",
    "ORDER = neopixel.GRB\n",
    "\n",
    "pixels = neopixel.NeoPixel(\n",
    "    pixel_pin, num_pixels, brightness=1, auto_write=False, pixel_order=ORDER\n",
    ")\n",
    "\n",
    "\n",
    "def wheel(pos):\n",
    "    # Input a value 0 to 255 to get a color value.\n",
    "    # The colours are a transition r - g - b - back to r.\n",
    "    if pos < 0 or pos > 255:\n",
    "        r = g = b = 0\n",
    "    elif pos < 85:\n",
    "        r = int(pos * 3)\n",
    "        g = int(255 - pos * 3)\n",
    "        b = 0\n",
    "    elif pos < 170:\n",
    "        pos -= 85\n",
    "        r = int(255 - pos * 3)\n",
    "        g = 0\n",
    "        b = int(pos * 3)\n",
    "    else:\n",
    "        pos -= 170\n",
    "        r = 0\n",
    "        g = int(pos * 3)\n",
    "        b = int(255 - pos * 3)\n",
    "    return (r, g, b) if ORDER in (neopixel.RGB, neopixel.GRB) else (r, g, b, 0)\n",
    "\n",
    "\n",
    "def rainbow_cycle(wait):\n",
    "    for j in range(255):\n",
    "        for i in range(num_pixels):\n",
    "            pixel_index = (i * 256 // num_pixels) + j\n",
    "            pixels[i] = wheel(pixel_index & 255)\n",
    "        pixels.show()\n",
    "        time.sleep(wait)\n",
    "\n",
    "\n",
    "while True:\n",
    "    # Comment this line out if you have RGBW/GRBW NeoPixels\n",
    "    pixels.fill((255, 0, 0))\n",
    "    pixels.show()\n",
    "    time.sleep(5)\n",
    "\n",
    "    # Comment this line out if you have RGBW/GRBW NeoPixels\n",
    "    pixels.fill((0, 255, 0))\n",
    "    pixels.show()\n",
    "    time.sleep(5)\n",
    "\n",
    "    # Comment this line out if you have RGBW/GRBW NeoPixels\n",
    "    pixels.fill((0, 0, 255))\n",
    "    pixels.show()\n",
    "    time.sleep(5)\n",
    "\n",
    "    # Comment this line out if you have RGBW/GRBW NeoPixels\n",
    "    pixels.fill((0, 0, 0))\n",
    "    pixels.show()\n",
    "    time.sleep(5)\n",
    "\n",
    "    #rainbow_cycle(1)  # rainbow cycle with 1ms delay per step"
   ]
  },
  {
   "cell_type": "code",
   "execution_count": null,
   "id": "a45ffbd8-3efc-4619-af3a-b1df4a790797",
   "metadata": {},
   "outputs": [],
   "source": []
  }
 ],
 "metadata": {
  "kernelspec": {
   "display_name": "Python 3 (ipykernel)",
   "language": "python",
   "name": "python3"
  },
  "language_info": {
   "codemirror_mode": {
    "name": "ipython",
    "version": 3
   },
   "file_extension": ".py",
   "mimetype": "text/x-python",
   "name": "python",
   "nbconvert_exporter": "python",
   "pygments_lexer": "ipython3",
   "version": "3.11.2"
  }
 },
 "nbformat": 4,
 "nbformat_minor": 5
}
